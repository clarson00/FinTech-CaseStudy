{
 "metadata": {
  "language_info": {
   "codemirror_mode": {
    "name": "ipython",
    "version": 3
   },
   "file_extension": ".py",
   "mimetype": "text/x-python",
   "name": "python",
   "nbconvert_exporter": "python",
   "pygments_lexer": "ipython3",
   "version": "3.8.3-final"
  },
  "orig_nbformat": 2,
  "kernelspec": {
   "name": "Python 3.8.3 64-bit ('clars': virtualenv)",
   "display_name": "Python 3.8.3 64-bit ('clars': virtualenv)",
   "metadata": {
    "interpreter": {
     "hash": "533fe7896f3ff989ac2426104bc282c98bf962877b0bc8f9dc113239a8c6ca44"
    }
   }
  }
 },
 "nbformat": 4,
 "nbformat_minor": 2,
 "cells": [
  {
   "cell_type": "code",
   "execution_count": 7,
   "metadata": {
    "tags": []
   },
   "outputs": [
    {
     "output_type": "stream",
     "name": "stdout",
     "text": "1.5517275862068964\n"
    }
   ],
   "source": [
    "\"\"\"\n",
    "Determine the Compound Annual Growth Rate for an investment\n",
    "\"\"\"\n",
    "\n",
    "# Declare a variable beginning_balance as a float\n",
    "beginning_balance = 29000.00\n",
    "\n",
    "# Declare a variable ending_balance as float\n",
    "ending_balance = 45000.10\n",
    "\n",
    "# Declare a variable years as an float\n",
    "years = 1.0\n",
    "\n",
    "# Define a function called calculate_compound_growth_rate with three arguments: beginning_balance, ending_balance, years. Function should output growth_rate.\n",
    "def calculate_compound_growth_rate(beginning_balance,ending_balance,years):\n",
    "\n",
    "    growth_rates = ((ending_balance/beginning_balance) ** (1/years))\n",
    "\n",
    "    return growth_rates\n",
    "\n",
    "# Call calculate_compound_growth_rate using beginning_balance, ending_balance, and years. Capture as year_one_growth.\n",
    "\n",
    "year_one_growth = calculate_compound_growth_rate(beginning_balance, ending_balance, years)\n",
    "print (year_one_growth)\n",
    "\n",
    "\n",
    "# Update beginning_balance and ending balance for year two, and then execute calculate_compound_growth_rate\n",
    "\n",
    "\n",
    "# Call calculate_compound_growth_rate using beginning_balance, ending_balance, and years. Capture as year_two_growth.\n",
    "\n",
    "\n",
    "# Update beginning_balance and ending balance for year three, and then execute calculate_compound_growth_rate\n",
    "\n",
    "\n",
    "# Call calculate_compound_growth_rate using beginning_balance, ending_balance, and years. Capture as year_three_growth.\n",
    "\n",
    "# Use Python round() function to round year_one_growth, year_two_growth, and year_three_growth. Capture these as new variables.\n",
    "\n",
    "# Print year_one_growth, year_two_growth, year_three_growth as percents using string formatting\n",
    "\n",
    "\n",
    "\n",
    "# Create a global, empty list\n",
    "\n",
    "\n",
    "# Populate growth_rates list using add() function\n",
    "\n",
    "\n",
    "# Call calculate_compound_growth_rate_list and populate growth_rates with 2016 values (beginning_balance and ending_balance)\n",
    "beginning_balance = 29000.00\n",
    "ending_balance = 45000.10\n",
    "\n",
    "\n",
    "# Call calculate_compound_growth_rate_list and populate growth_rates with 2017 values (beginning_balance and ending_balance)\n",
    "beginning_balance = 45000.00\n",
    "ending_balance = 47000.00\n",
    "\n",
    "\n",
    "# Call calculate_compound_growth_rate_list and populate growth_rates with 2018 values (beginning_balance and ending_balance)\n",
    "beginning_balance = 47000.00\n",
    "ending_balance = 48930.00\n",
    "\n",
    "\n",
    "# Print growth_rates list\n",
    "#print(\"Growth rates: \", growth_rates)\n",
    "\n",
    "\n"
   ]
  },
  {
   "cell_type": "code",
   "execution_count": null,
   "metadata": {},
   "outputs": [],
   "source": []
  }
 ]
}