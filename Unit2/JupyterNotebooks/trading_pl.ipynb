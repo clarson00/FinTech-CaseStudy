{
 "metadata": {
  "language_info": {
   "codemirror_mode": {
    "name": "ipython",
    "version": 3
   },
   "file_extension": ".py",
   "mimetype": "text/x-python",
   "name": "python",
   "nbconvert_exporter": "python",
   "pygments_lexer": "ipython3",
   "version": "3.8.3-final"
  },
  "orig_nbformat": 2,
  "kernelspec": {
   "name": "Python 3.8.3 64-bit ('base': conda)",
   "display_name": "Python 3.8.3 64-bit ('base': conda)",
   "metadata": {
    "interpreter": {
     "hash": "533fe7896f3ff989ac2426104bc282c98bf962877b0bc8f9dc113239a8c6ca44"
    }
   }
  }
 },
 "nbformat": 4,
 "nbformat_minor": 2,
 "cells": [
  {
   "cell_type": "code",
   "execution_count": 8,
   "metadata": {
    "tags": []
   },
   "outputs": [
    {
     "output_type": "stream",
     "name": "stdout",
     "text": "------- Summary Stats -------\nTrading Days: 20 \nNumber of profitable days 13\nNumber of unprofitable days 7\nCount 20\nTotal 1139\nAverage 0.01755926251097454\n\n"
    }
   ],
   "source": [
    "# -*- coding: utf-8 -*-\n",
    "\"\"\"\n",
    "Student Do: Trading Log.\n",
    "\n",
    "This script demonstrates how to perform basic analysis of trading profits/losses\n",
    "over the course of a month (20 business days).\n",
    "\"\"\"\n",
    "\n",
    "# @TODO: Initialize the metric variables\n",
    "total = 0\n",
    "count = 0\n",
    "minimum = 0\n",
    "maximum = 0\n",
    "total = 0\n",
    "\n",
    "\n",
    "# @TODO: Initialize lists to hold profitable and unprofitable day profits/losses\n",
    "\n",
    "profitable=[]\n",
    "unprofitable=[]\n",
    "\n",
    "\n",
    "# List of trading profits/losses\n",
    "trading_pnl = [ -224,  352, 252, 354, -544,\n",
    "                -650,   56, 123, -43,  254,\n",
    "                 325, -123,  47, 321,  123,\n",
    "                 133, -151, 613, 232, -311 ]\n",
    "\n",
    "# @TODO: Iterate over each element of the list\n",
    "\n",
    "for x in trading_pnl:\n",
    "\n",
    "    # @TODO: Cumulatively sum up the total and count\n",
    "\n",
    "    total = total + x\n",
    "    count = count +1\n",
    "\n",
    "\n",
    "#print(total)\n",
    "\n",
    "    # @TODO: Write logic to determine minimum and maximum values\n",
    "\n",
    "\n",
    "\n",
    "\n",
    "\n",
    "\n",
    "    # @TODO: Write logic to determine profitable vs. unprofitable days\n",
    "\n",
    "    if x >=1:\n",
    "        profitable.append(x)\n",
    "    else:\n",
    "        unprofitable.append(x)\n",
    "    \n",
    "\n",
    "\n",
    "# @TODO: Calculate the average\n",
    "    average = len(trading_pnl)/total\n",
    "\n",
    "\n",
    "# @TODO: Calculate count metrics\n",
    "\n",
    "\n",
    "\n",
    "# @TODO: Calculate percentage metrics\n",
    "\n",
    "\n",
    "\n",
    "# @TODO: Print out the summary statistics\n",
    "\n",
    "trading_days = len(trading_pnl)\n",
    "\n",
    "print(\"------- Summary Stats -------\")\n",
    "print(\"Trading Days: %s \" % trading_days)\n",
    "print(\"Number of profitable days %s\" % len(profitable))\n",
    "print(\"Number of unprofitable days %s\" % len(unprofitable))\n",
    "print(\"Percent of profitable days %s\" % len(unprofitable))\n",
    "\n",
    "\n",
    "\n",
    "print(\"Count %s\" % count)\n",
    "print(\"Total %s\" % total)\n",
    "print(\"Average %s\" % average)\n",
    "print() \n",
    "\n"
   ]
  },
  {
   "cell_type": "code",
   "execution_count": null,
   "metadata": {},
   "outputs": [],
   "source": []
  }
 ]
}